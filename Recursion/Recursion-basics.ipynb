{
 "cells": [
  {
   "cell_type": "markdown",
   "metadata": {},
   "source": [
    "### Steps to approach recursion problem - \n",
    "\n",
    "1. Find out the smallest sub problem for which we know the answer \n",
    "2. Assume that for a given problem recursion will correctly calculate a subproblem\n",
    "3. Self work"
   ]
  },
  {
   "cell_type": "markdown",
   "metadata": {},
   "source": [
    "Space Complexity - Space complexity is defined as the max space allocated at any point of time during the execution of the process "
   ]
  },
  {
   "cell_type": "code",
   "execution_count": 3,
   "metadata": {},
   "outputs": [],
   "source": [
    "# Recursive program to calculate nth fibonacci element - 0,1,1,2,3,5,8,13....\n",
    "# Recurrence relation - f(N) + f(N-1)\n",
    "def n_fib(n):\n",
    "    if n == 0 :\n",
    "        return 0\n",
    "    if n == 1:\n",
    "        return 1\n",
    "    return n_fib(n-2) + n_fib(n-1)"
   ]
  },
  {
   "cell_type": "code",
   "execution_count": 5,
   "metadata": {},
   "outputs": [
    {
     "data": {
      "text/plain": [
       "2"
      ]
     },
     "execution_count": 5,
     "metadata": {},
     "output_type": "execute_result"
    }
   ],
   "source": [
    "n_fib(3)"
   ]
  },
  {
   "cell_type": "code",
   "execution_count": 21,
   "metadata": {},
   "outputs": [],
   "source": [
    "#print first N natural number recursively\n",
    "def natural_number(n):\n",
    "    if n == 0:\n",
    "        return\n",
    "    natural_number(n-1)\n",
    "    print(n,end =\" \")"
   ]
  },
  {
   "cell_type": "code",
   "execution_count": 25,
   "metadata": {},
   "outputs": [
    {
     "name": "stdout",
     "output_type": "stream",
     "text": [
      "1 2 3 4 5 "
     ]
    }
   ],
   "source": [
    "natural_number(5)"
   ]
  },
  {
   "cell_type": "code",
   "execution_count": 30,
   "metadata": {},
   "outputs": [],
   "source": [
    "#Print first N natural number recursively in decreasing order\n",
    "def dec_NN(n):\n",
    "    if n == 0:\n",
    "        return\n",
    "    print(n,end= \" \")\n",
    "    dec_NN(n-1)"
   ]
  },
  {
   "cell_type": "code",
   "execution_count": 31,
   "metadata": {},
   "outputs": [
    {
     "name": "stdout",
     "output_type": "stream",
     "text": [
      "5 4 3 2 1 "
     ]
    }
   ],
   "source": [
    "dec_NN(5)"
   ]
  },
  {
   "cell_type": "code",
   "execution_count": 36,
   "metadata": {},
   "outputs": [],
   "source": [
    "# print 5 4 3 2 1 2 3 4 5\n",
    "def inc_to_dec(n):\n",
    "    if n == 0:\n",
    "        return\n",
    "    print(n,end= \" \")\n",
    "    inc_to_dec(n-1)\n",
    "    if n != 1:\n",
    "        print(n,end=\" \")\n",
    "    else:\n",
    "        return"
   ]
  },
  {
   "cell_type": "code",
   "execution_count": 38,
   "metadata": {},
   "outputs": [
    {
     "name": "stdout",
     "output_type": "stream",
     "text": [
      "5 4 3 2 1 2 3 4 5 "
     ]
    }
   ],
   "source": [
    "inc_to_dec(5)"
   ]
  },
  {
   "cell_type": "code",
   "execution_count": null,
   "metadata": {},
   "outputs": [],
   "source": [
    "# Given a value of n, How many binary strings of length n are there with no consecutive ones\n",
    "\n",
    "def BN_string(n):\n",
    "    c = 0\n",
    "    if n == 1:\n",
    "        return \n",
    "    if n == 0:\n",
    "        return\n",
    "    lb = BN_string(n//10)\n",
    "    hb = BN_string(n//100)\n",
    "    if lb == 1 and hb == 1:\n",
    "        return \n",
    "    else:\n",
    "        c = c + 1 \n",
    "    "
   ]
  },
  {
   "cell_type": "code",
   "execution_count": 40,
   "metadata": {},
   "outputs": [
    {
     "data": {
      "text/plain": [
       "3"
      ]
     },
     "execution_count": 40,
     "metadata": {},
     "output_type": "execute_result"
    }
   ],
   "source": [
    "300//10"
   ]
  },
  {
   "cell_type": "code",
   "execution_count": 10,
   "metadata": {},
   "outputs": [],
   "source": [
    "# There are N persons who wants to go to a party, There is a constraint that any person can go alone or can go in a pair.\n",
    "# Calculate the number of ways in which N persons will go to a party. \n",
    "\n",
    "def pair(n):\n",
    "    if n == 2: \n",
    "        return 2 \n",
    "    if n == 1: \n",
    "        return 1\n",
    "    \n",
    "    small_value = pair(n-1)+(n-1)*(pair(n-2))\n",
    "    return small_value"
   ]
  },
  {
   "cell_type": "code",
   "execution_count": 12,
   "metadata": {},
   "outputs": [
    {
     "name": "stdout",
     "output_type": "stream",
     "text": [
      "4\n"
     ]
    }
   ],
   "source": [
    "print(pair(3))"
   ]
  },
  {
   "cell_type": "code",
   "execution_count": 2,
   "metadata": {},
   "outputs": [],
   "source": [
    "# Given Two Numbers A and B. Calculate A raised to the power B. \n",
    "\n",
    "\n",
    "#method 1 \n",
    "def power1(a,b):\n",
    "    if b == 0:\n",
    "        return 1\n",
    "    return a*power(a,b-1)\n",
    "\n",
    "\n",
    "#method 2 ( Time Complexity log b base 2)\n",
    "def power(a,b):\n",
    "    if b == 1: \n",
    "        return a\n",
    "    if b%2==0:\n",
    "        return power(a,b//2) * power(a,b//2)\n",
    "    else: \n",
    "        return a*power(a,b//2)*power(a,b//2)"
   ]
  },
  {
   "cell_type": "code",
   "execution_count": 3,
   "metadata": {},
   "outputs": [
    {
     "name": "stdout",
     "output_type": "stream",
     "text": [
      "3125\n",
      "3125\n"
     ]
    }
   ],
   "source": [
    "print(power(5,5))\n",
    "print(power1(5,5))"
   ]
  },
  {
   "cell_type": "code",
   "execution_count": 58,
   "metadata": {},
   "outputs": [],
   "source": [
    "# Given a value of N, print the pattern of N rows recursively\n",
    "#  * * * *\n",
    "#  * * *\n",
    "#  * *\n",
    "#  *\n",
    "\n",
    "def patterloop(N):\n",
    "    i = 0\n",
    "    k = N\n",
    "    for i in range(N):\n",
    "        for j in range(N):\n",
    "            print('*',end=\" \")\n",
    "        print()\n",
    "        N = N -1\n",
    "\n",
    "def pattern(N,i=0):\n",
    "    if N == 0:\n",
    "        return\n",
    "    if (i<N):\n",
    "        print('*', end = \" \")\n",
    "        pattern(N,i+1)\n",
    "    else:\n",
    "        print()\n",
    "        pattern(N-1,0)\n",
    "\n"
   ]
  },
  {
   "cell_type": "code",
   "execution_count": 59,
   "metadata": {},
   "outputs": [
    {
     "name": "stdout",
     "output_type": "stream",
     "text": [
      "* * * * \n",
      "* * * \n",
      "* * \n",
      "* \n",
      "* * * * \n",
      "* * * \n",
      "* * \n",
      "* \n"
     ]
    }
   ],
   "source": [
    "patterloop(4)\n",
    "pattern(4)"
   ]
  },
  {
   "cell_type": "code",
   "execution_count": null,
   "metadata": {},
   "outputs": [],
   "source": []
  }
 ],
 "metadata": {
  "kernelspec": {
   "display_name": "Python 3",
   "language": "python",
   "name": "python3"
  },
  "language_info": {
   "codemirror_mode": {
    "name": "ipython",
    "version": 3
   },
   "file_extension": ".py",
   "mimetype": "text/x-python",
   "name": "python",
   "nbconvert_exporter": "python",
   "pygments_lexer": "ipython3",
   "version": "3.8.5"
  }
 },
 "nbformat": 4,
 "nbformat_minor": 4
}
