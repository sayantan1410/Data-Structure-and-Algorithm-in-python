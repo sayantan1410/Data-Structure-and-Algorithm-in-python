{
 "cells": [
  {
   "cell_type": "code",
   "execution_count": 7,
   "metadata": {},
   "outputs": [],
   "source": [
    "# Given an array, print all the subset of the array using recursion\n",
    "# array - [1,2,3]\n",
    "# subsets - [],[1],[1,2],[1,2,3],[2],[2,3],[3],[1,3]\n",
    "\n",
    "def array_subset(arr,i,n,osf=''):\n",
    "    # Base Case\n",
    "    if i == n:\n",
    "        print('['+osf+']')\n",
    "        return\n",
    "    # if the element is to be added\n",
    "    # osf is \"output so far\"\n",
    "    array_subset(arr,i+1,n,osf+str(arr[i])+' ')\n",
    "    print('**')\n",
    "    # if the element is not to be added\n",
    "    array_subset(arr,i+1,n,osf)\n",
    "    print('*')\n",
    "    "
   ]
  },
  {
   "cell_type": "code",
   "execution_count": null,
   "metadata": {},
   "outputs": [],
   "source": []
  },
  {
   "cell_type": "code",
   "execution_count": 8,
   "metadata": {
    "scrolled": true
   },
   "outputs": [
    {
     "name": "stdout",
     "output_type": "stream",
     "text": [
      "[1 2 3 ]\n",
      "**\n",
      "[1 2 ]\n",
      "*\n",
      "**\n",
      "[1 3 ]\n",
      "**\n",
      "[1 ]\n",
      "*\n",
      "*\n",
      "**\n",
      "[2 3 ]\n",
      "**\n",
      "[2 ]\n",
      "*\n",
      "**\n",
      "[3 ]\n",
      "**\n",
      "[]\n",
      "*\n",
      "*\n",
      "*\n"
     ]
    }
   ],
   "source": [
    "arr = [1,2,3]\n",
    "array_subset(arr,0,len(arr))"
   ]
  },
  {
   "cell_type": "code",
   "execution_count": 10,
   "metadata": {},
   "outputs": [],
   "source": [
    "def check_sorted(arr,i,n):\n",
    "    if i == n:\n",
    "        print('yes')\n",
    "        return\n",
    "    if arr[i] < arr[i+1]:\n",
    "        check_sorted(arr,i+1,n)\n",
    "    else:\n",
    "        print('No')\n",
    "        return"
   ]
  },
  {
   "cell_type": "code",
   "execution_count": 11,
   "metadata": {},
   "outputs": [
    {
     "name": "stdout",
     "output_type": "stream",
     "text": [
      "yes\n"
     ]
    }
   ],
   "source": [
    "check_sorted([1,2,3],0,2)"
   ]
  },
  {
   "cell_type": "code",
   "execution_count": 24,
   "metadata": {},
   "outputs": [],
   "source": [
    "# *\n",
    "# * *\n",
    "# * * *\n",
    "# * * * *\n",
    "def printn(num):\n",
    "     \n",
    "    # base case\n",
    "    if (num == 0):\n",
    "        return\n",
    "    print(\"*\", end = \" \")\n",
    " \n",
    "    # recursively calling printn()\n",
    "    printn(num - 1)\n",
    "    \n",
    "def pattern(n, i):\n",
    "    # base case\n",
    "    if (n == 0):\n",
    "        return\n",
    "    printn(i)\n",
    "    print()\n",
    "    pattern(n-1,i+1)\n",
    "        \n",
    "    \n",
    "    "
   ]
  },
  {
   "cell_type": "code",
   "execution_count": 25,
   "metadata": {},
   "outputs": [
    {
     "name": "stdout",
     "output_type": "stream",
     "text": [
      "* \n",
      "* * \n",
      "* * * \n",
      "* * * * \n",
      "* * * * * \n"
     ]
    }
   ],
   "source": [
    "pattern(5,1)"
   ]
  },
  {
   "cell_type": "code",
   "execution_count": 3,
   "metadata": {},
   "outputs": [],
   "source": [
    "# * * * *\n",
    "# * * * \n",
    "# * *\n",
    "# *\n",
    "def pattern_decreasing(N,i=0):\n",
    "    if N == 0:\n",
    "        return\n",
    "    if(i<N):\n",
    "        print('*', end=' ')\n",
    "        pattern_decreasing(N,i+1)\n",
    "    else:\n",
    "        print()\n",
    "        pattern_decreasing(N-1,0)\n",
    "    "
   ]
  },
  {
   "cell_type": "code",
   "execution_count": 4,
   "metadata": {},
   "outputs": [
    {
     "name": "stdout",
     "output_type": "stream",
     "text": [
      "* * * * * \n",
      "* * * * \n",
      "* * * \n",
      "* * \n",
      "* \n"
     ]
    }
   ],
   "source": [
    "pattern_decreasing(5)"
   ]
  },
  {
   "cell_type": "code",
   "execution_count": 11,
   "metadata": {},
   "outputs": [],
   "source": [
    "# Reverse a array using Recursion\n",
    "\n",
    "def reverse_array(arr,n,i =0):\n",
    "    if i > n-1:\n",
    "        return\n",
    "    arr[i],arr[n-1] = arr[n-1],arr[i]\n",
    "    reverse_array(arr,n-1,i+1)\n",
    "    return arr\n",
    "\n",
    "    "
   ]
  },
  {
   "cell_type": "code",
   "execution_count": 12,
   "metadata": {},
   "outputs": [
    {
     "name": "stdout",
     "output_type": "stream",
     "text": [
      "[4, 3, 2, 1]\n"
     ]
    }
   ],
   "source": [
    "arr = [1,2,3,4]\n",
    "a = reverse_array(arr,len(arr))\n",
    "print(a)"
   ]
  },
  {
   "cell_type": "code",
   "execution_count": 22,
   "metadata": {},
   "outputs": [],
   "source": [
    "# Binary Search using Recursion\n",
    "\n",
    "def B_search(arr,i,n,ele):\n",
    "    if i > n:\n",
    "        print('element not found')\n",
    "        return\n",
    "    mid = (i+n)//2\n",
    "    if ele > arr[mid]:\n",
    "        B_search(arr,mid,n,ele)\n",
    "    elif ele < arr[mid]:\n",
    "        B_search(arr,i,mid,ele)\n",
    "    else:\n",
    "        print(f'The element {ele} is present in the index {mid}')"
   ]
  },
  {
   "cell_type": "code",
   "execution_count": 23,
   "metadata": {},
   "outputs": [
    {
     "name": "stdout",
     "output_type": "stream",
     "text": [
      "The element 8 is present in the index 4\n"
     ]
    }
   ],
   "source": [
    "arr = [1,3,5,6,8,9]\n",
    "ele = 8\n",
    "B_search(arr,0,6,ele)"
   ]
  },
  {
   "cell_type": "code",
   "execution_count": 12,
   "metadata": {},
   "outputs": [],
   "source": [
    "# bubble Sort\n",
    "def bubble_sort(arr,n,i=0):\n",
    "    if i == n-1:\n",
    "        return\n",
    "    for k in range(n-1):\n",
    "        if arr[i] > arr[i+1]:\n",
    "            arr[i],arr[i+1] = arr[i+1],arr[i]\n",
    "            bubble_sort(arr,n,i+1)\n",
    "        else:\n",
    "            bubble_sort(arr,n,i+1)\n",
    "    return arr"
   ]
  },
  {
   "cell_type": "code",
   "execution_count": 13,
   "metadata": {},
   "outputs": [
    {
     "name": "stdout",
     "output_type": "stream",
     "text": [
      "[1, 2, 3, 4, 6, 8]\n"
     ]
    }
   ],
   "source": [
    "arr = [2,4,1,3,8,6]\n",
    "a = bubble_sort(arr,len(arr),0)\n",
    "print(a)"
   ]
  },
  {
   "cell_type": "code",
   "execution_count": 17,
   "metadata": {},
   "outputs": [],
   "source": [
    "# You are given a 2D matrix of dimension (n X m), You will start from top left cell and you want to go to bottom right\n",
    "# At each point you can move either right or down, Print and Count all positive paths. \n",
    "\n",
    "def calculate_paths(n,m,i,j,osf=''):\n",
    "    if (i == n-1) and (j == m-1):\n",
    "        print(osf)\n",
    "        #print(i,j)\n",
    "        return\n",
    "    if i == n or j == m:\n",
    "        return\n",
    "    calculate_paths(n,m,i+1,j,osf+'R'+'')\n",
    "    calculate_paths(n,m,i,j+1,osf+'B'+'')\n",
    "    calculate_paths(n,m,i+1,j+1,osf+'D'+'')\n",
    "    \n",
    "\n",
    "        "
   ]
  },
  {
   "cell_type": "code",
   "execution_count": 18,
   "metadata": {},
   "outputs": [
    {
     "name": "stdout",
     "output_type": "stream",
     "text": [
      "RRBB\n",
      "RBRB\n",
      "RBBR\n",
      "RBD\n",
      "RDB\n",
      "BRRB\n",
      "BRBR\n",
      "BRD\n",
      "BBRR\n",
      "BDR\n",
      "DRB\n",
      "DBR\n",
      "DD\n"
     ]
    }
   ],
   "source": [
    "mat = [[1,2,3],\n",
    "      [4,5,6],\n",
    "      [6,7,8]]\n",
    "calculate_paths(3,3,0,0,'')\n"
   ]
  },
  {
   "cell_type": "code",
   "execution_count": 4,
   "metadata": {},
   "outputs": [],
   "source": [
    "paths = 0\n",
    "def jump(i,n,osf=''):\n",
    "    if i > n-1:\n",
    "        return\n",
    "    if i == n-1:\n",
    "        print(osf)\n",
    "        return\n",
    "    jump(i+1,n,osf+str(1))\n",
    "    jump(i+2,n,osf+str(2))\n",
    "    jump(i+3,n,osf+str(3))\n",
    "    jump(i+4,n,osf+str(4))\n",
    "    jump(i+5,n,osf+str(5))\n",
    "    jump(i+6,n,osf+str(6))\n",
    "    "
   ]
  },
  {
   "cell_type": "code",
   "execution_count": 6,
   "metadata": {},
   "outputs": [
    {
     "name": "stdout",
     "output_type": "stream",
     "text": [
      "111\n",
      "12\n",
      "21\n",
      "3\n"
     ]
    }
   ],
   "source": [
    "jump(0,4,'')"
   ]
  }
 ],
 "metadata": {
  "kernelspec": {
   "display_name": "Python 3",
   "language": "python",
   "name": "python3"
  },
  "language_info": {
   "codemirror_mode": {
    "name": "ipython",
    "version": 3
   },
   "file_extension": ".py",
   "mimetype": "text/x-python",
   "name": "python",
   "nbconvert_exporter": "python",
   "pygments_lexer": "ipython3",
   "version": "3.8.5"
  }
 },
 "nbformat": 4,
 "nbformat_minor": 4
}
