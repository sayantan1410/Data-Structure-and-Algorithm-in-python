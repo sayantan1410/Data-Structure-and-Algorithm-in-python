{
 "cells": [
  {
   "cell_type": "markdown",
   "metadata": {},
   "source": [
    "### Taking input in a linked list ( not the optimsed way ) "
   ]
  },
  {
   "cell_type": "code",
   "execution_count": 6,
   "metadata": {},
   "outputs": [
    {
     "name": "stdout",
     "output_type": "stream",
     "text": [
      "1 2 3 4 -1\n"
     ]
    }
   ],
   "source": [
    "class Node:\n",
    "    def __init__(self,data):\n",
    "        self.data = data\n",
    "        self.next = None\n",
    "        \n",
    "def takeinput():\n",
    "    inputList = [int(ele) for ele in input().split()]\n",
    "    head = None \n",
    "    for currdata in inputList:\n",
    "        if currdata == -1:\n",
    "            break\n",
    "        newnode = Node(currdata)\n",
    "        if head is None:\n",
    "            head = newnode\n",
    "        else:\n",
    "            curr = head\n",
    "            while curr.next is not None:\n",
    "                curr = curr.next\n",
    "            curr.next = newnode\n",
    "    return head\n",
    "            \n",
    "\n",
    "head = takeinput()"
   ]
  },
  {
   "cell_type": "markdown",
   "metadata": {},
   "source": [
    "### Printing the data inside the linked list"
   ]
  },
  {
   "cell_type": "code",
   "execution_count": 7,
   "metadata": {},
   "outputs": [
    {
     "name": "stdout",
     "output_type": "stream",
     "text": [
      "1-> 2-> 3-> 4-> None\n",
      "None\n"
     ]
    }
   ],
   "source": [
    "def printLL(head):\n",
    "    while head is not None:\n",
    "        print(str(head.data)+\"->\",end = \" \")\n",
    "        head = head.next\n",
    "    print(\"None\")\n",
    "    return\n",
    "        \n",
    "        \n",
    "print(printLL(head))"
   ]
  },
  {
   "cell_type": "markdown",
   "metadata": {},
   "source": [
    "### Time complexity analysis \n",
    "##### For taking input of nth element we have to traverse for n-1 time. So for 1st element number of traversal is 0, for second element number of traversal is 1, for third 2 two. \n",
    "##### Therefore total traversals for reaching n elements = 0+1+2+3+...+n-1 = (n(n-1))/2. Therefore it is O(n^2). "
   ]
  },
  {
   "cell_type": "markdown",
   "metadata": {},
   "source": [
    "### Optimising taking input part of linkedlist. "
   ]
  },
  {
   "cell_type": "code",
   "execution_count": 8,
   "metadata": {},
   "outputs": [
    {
     "name": "stdout",
     "output_type": "stream",
     "text": [
      "1 2 3 4 -1\n"
     ]
    }
   ],
   "source": [
    "def takeinputoptimised():\n",
    "    inputList = [int(ele) for ele in input().split()]\n",
    "    head = None \n",
    "    tail = None\n",
    "    for currdata in inputList:\n",
    "        if currdata == -1:\n",
    "            break\n",
    "        newnode = Node(currdata)\n",
    "        if head is None:\n",
    "            head = newnode\n",
    "            tail = newnode\n",
    "        else:\n",
    "            tail.next = newnode\n",
    "            tail = newnode\n",
    "    return head\n",
    "            \n",
    "\n",
    "head = takeinput()"
   ]
  },
  {
   "cell_type": "code",
   "execution_count": 9,
   "metadata": {},
   "outputs": [
    {
     "name": "stdout",
     "output_type": "stream",
     "text": [
      "1-> 2-> 3-> 4-> None\n",
      "None\n"
     ]
    }
   ],
   "source": [
    "print(printLL(head))"
   ]
  },
  {
   "cell_type": "markdown",
   "metadata": {},
   "source": [
    "### Time complexity for optimised solution\n",
    "##### Now for taking input we have to traverse to that element from just the previous element of it. Therefore the total number of traversal for n elements is\n",
    "##### 1+1+1+...+1(nth element) = n, therefore time complexity is O(n)"
   ]
  },
  {
   "cell_type": "markdown",
   "metadata": {},
   "source": [
    "### Inserting element in the ith position. "
   ]
  },
  {
   "cell_type": "code",
   "execution_count": 10,
   "metadata": {},
   "outputs": [],
   "source": [
    "# calculating length of the linkedlist\n",
    "def LLlength(head):\n",
    "    count = 0 \n",
    "    while head is not None:\n",
    "        count = count + 1 \n",
    "        head = head.next\n",
    "    return count    "
   ]
  },
  {
   "cell_type": "code",
   "execution_count": 11,
   "metadata": {},
   "outputs": [
    {
     "data": {
      "text/plain": [
       "4"
      ]
     },
     "execution_count": 11,
     "metadata": {},
     "output_type": "execute_result"
    }
   ],
   "source": [
    "LLlength(head)"
   ]
  },
  {
   "cell_type": "code",
   "execution_count": 12,
   "metadata": {},
   "outputs": [],
   "source": [
    "def insertelement(head,i,data):\n",
    "    if i < 0 or i > LLlength(head) :\n",
    "        return head\n",
    "    count = 0\n",
    "    prev = None\n",
    "    curr = head\n",
    "    while count < i:\n",
    "        prev = curr\n",
    "        curr = curr.next\n",
    "        count = count + 1\n",
    "    newnode = Node(data)\n",
    "    if prev != None:\n",
    "        prev.next = newnode\n",
    "    else:\n",
    "        head = newnode\n",
    "    newnode.next = curr\n",
    "    return head\n",
    "    "
   ]
  },
  {
   "cell_type": "code",
   "execution_count": 19,
   "metadata": {},
   "outputs": [],
   "source": [
    "head = insertelement(head,0,0)"
   ]
  },
  {
   "cell_type": "code",
   "execution_count": 20,
   "metadata": {},
   "outputs": [
    {
     "name": "stdout",
     "output_type": "stream",
     "text": [
      "0-> 1-> 2-> 3-> 4-> 5-> None\n"
     ]
    }
   ],
   "source": [
    "printLL(head)"
   ]
  },
  {
   "cell_type": "markdown",
   "metadata": {},
   "source": [
    "### Inserting element in the ith position (recursively)"
   ]
  },
  {
   "cell_type": "code",
   "execution_count": null,
   "metadata": {},
   "outputs": [],
   "source": [
    "def insertelementrecursively(head,i,data):\n",
    "    if i < 0:\n",
    "        return head \n",
    "    if head is None:\n",
    "        return None \n",
    "    if i = 0:\n",
    "        newnode = Node(data)\n",
    "        newnode.next = head\n",
    "        return newnode\n",
    "    smallhead = insertelementrecursively(head.next,i-1,data)\n",
    "    head.next = smallhead\n",
    "    return head\n",
    "    "
   ]
  }
 ],
 "metadata": {
  "kernelspec": {
   "display_name": "Python 3",
   "language": "python",
   "name": "python3"
  },
  "language_info": {
   "codemirror_mode": {
    "name": "ipython",
    "version": 3
   },
   "file_extension": ".py",
   "mimetype": "text/x-python",
   "name": "python",
   "nbconvert_exporter": "python",
   "pygments_lexer": "ipython3",
   "version": "3.7.6"
  }
 },
 "nbformat": 4,
 "nbformat_minor": 4
}
