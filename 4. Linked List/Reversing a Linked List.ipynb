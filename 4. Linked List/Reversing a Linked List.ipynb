{
 "cells": [
  {
   "cell_type": "code",
   "execution_count": 27,
   "metadata": {},
   "outputs": [
    {
     "name": "stdout",
     "output_type": "stream",
     "text": [
      "1 2 3 4 -1\n"
     ]
    }
   ],
   "source": [
    "class Node:\n",
    "    def __init__(self,data):\n",
    "        self.data = data\n",
    "        self.next = None\n",
    "        \n",
    "\n",
    "def takeinputoptimised():\n",
    "    inputList = [int(ele) for ele in input().split()]\n",
    "    head = None \n",
    "    tail = None\n",
    "    for currdata in inputList:\n",
    "        if currdata == -1:\n",
    "            break\n",
    "        newnode = Node(currdata)\n",
    "        if head is None:\n",
    "            head = newnode\n",
    "            tail = newnode\n",
    "        else:\n",
    "            tail.next = newnode\n",
    "            tail = newnode\n",
    "    return head\n",
    "            \n",
    "            \n",
    "\n",
    "head = takeinputoptimised()"
   ]
  },
  {
   "cell_type": "code",
   "execution_count": 29,
   "metadata": {},
   "outputs": [],
   "source": [
    "def printLL(head):\n",
    "    while head is not None:\n",
    "        print(str(head.data)+\"->\",end = \"\")\n",
    "        head = head.next\n",
    "    print(\"None\")\n",
    "    return "
   ]
  },
  {
   "cell_type": "code",
   "execution_count": 30,
   "metadata": {},
   "outputs": [
    {
     "name": "stdout",
     "output_type": "stream",
     "text": [
      "1->2->3->4->None\n"
     ]
    }
   ],
   "source": [
    "printLL(head)"
   ]
  },
  {
   "cell_type": "code",
   "execution_count": 24,
   "metadata": {},
   "outputs": [],
   "source": [
    "def reverse(head):\n",
    "    if head.next is None:\n",
    "        return head\n",
    "    smallhead = reverse(head.next)\n",
    "    tail = smallhead\n",
    "    while tail.next is not None:\n",
    "        tail = tail.next\n",
    "    tail.next = head\n",
    "    head.next = None\n",
    "    return smallhead"
   ]
  },
  {
   "cell_type": "code",
   "execution_count": 25,
   "metadata": {},
   "outputs": [
    {
     "name": "stdout",
     "output_type": "stream",
     "text": [
      "4->3->2->1->None\n"
     ]
    }
   ],
   "source": [
    "headr = reverse(head)\n",
    "printLL(headr)"
   ]
  },
  {
   "cell_type": "markdown",
   "metadata": {},
   "source": [
    "### Time complexity of reversing a  Linked List\n",
    "T(n) = T(n-1) + n-1\n",
    "T(n-1) = T(n-2)+n-2 \n",
    ".            .\n",
    ".            .\n",
    ".            .\n",
    "T(1) = 0\n",
    "On taking sum of all the elements we get \n",
    "T(n) = (n-1)+(n-2)+....+0\n",
    "T(n) = (n(n-1)/2\n",
    "O(n) = n^2"
   ]
  },
  {
   "cell_type": "code",
   "execution_count": 31,
   "metadata": {},
   "outputs": [],
   "source": [
    "def reverseoptimised(head):\n",
    "    if head is None or head.next is None:\n",
    "        return head\n",
    "    smallhead = reverseoptimised(head.next)\n",
    "    tail = head.next\n",
    "    tail.next = head\n",
    "    head.next = None\n",
    "    return smallhead"
   ]
  },
  {
   "cell_type": "code",
   "execution_count": 32,
   "metadata": {},
   "outputs": [
    {
     "name": "stdout",
     "output_type": "stream",
     "text": [
      "4->3->2->1->None\n"
     ]
    }
   ],
   "source": [
    "headro=reverseoptimised(head)\n",
    "printLL(headro)"
   ]
  },
  {
   "cell_type": "code",
   "execution_count": null,
   "metadata": {},
   "outputs": [],
   "source": []
  }
 ],
 "metadata": {
  "kernelspec": {
   "display_name": "Python 3",
   "language": "python",
   "name": "python3"
  },
  "language_info": {
   "codemirror_mode": {
    "name": "ipython",
    "version": 3
   },
   "file_extension": ".py",
   "mimetype": "text/x-python",
   "name": "python",
   "nbconvert_exporter": "python",
   "pygments_lexer": "ipython3",
   "version": "3.7.6"
  }
 },
 "nbformat": 4,
 "nbformat_minor": 4
}
