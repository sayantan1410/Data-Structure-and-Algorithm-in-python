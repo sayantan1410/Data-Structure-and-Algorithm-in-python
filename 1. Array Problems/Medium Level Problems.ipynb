{
 "cells": [
  {
   "cell_type": "markdown",
   "id": "232a6bdd",
   "metadata": {},
   "source": [
    "### 1. Spiral Matrix "
   ]
  },
  {
   "cell_type": "markdown",
   "id": "def68108",
   "metadata": {},
   "source": [
    "input = [[1,2,3],\n",
    "         [4,5,6],\n",
    "         [7,8,9]]\n",
    "\n",
    "output = [1,2,3,6,9,8,7,4,5]\n",
    "        "
   ]
  },
  {
   "cell_type": "code",
   "execution_count": 6,
   "id": "d074f66b",
   "metadata": {},
   "outputs": [],
   "source": [
    "def spiral_matrix(m,n,A):\n",
    "    k = 0\n",
    "    l = 0 \n",
    "    while (k<m and l<n):\n",
    "        for i in range(l,n,1):\n",
    "            print(A[k][i],end = \" \")\n",
    "        k +=1\n",
    "        for i in range(k,m,1):\n",
    "            print(A[i][n-1],end = \" \")\n",
    "        n -=1\n",
    "        if (k<m):\n",
    "            for i in range(n-1,l-1,-1):\n",
    "                print(A[m-1][i],end = \" \")\n",
    "            m-=1\n",
    "        if (l<n):\n",
    "            for i in range(m-1,k-1,-1):\n",
    "                print(A[i][l],end = \" \")\n",
    "            l +=1\n",
    "        "
   ]
  },
  {
   "cell_type": "code",
   "execution_count": 17,
   "id": "59ac3ddd",
   "metadata": {},
   "outputs": [],
   "source": [
    "A = [[1, 2, 3, 4, 5, 6],\n",
    "     [7, 8, 9, 10, 11, 12],\n",
    "     [13, 14, 15, 16, 17, 18]]\n",
    "m = len(A)\n",
    "n = len(A[0])"
   ]
  },
  {
   "cell_type": "code",
   "execution_count": 18,
   "id": "3bf6c2c2",
   "metadata": {},
   "outputs": [
    {
     "name": "stdout",
     "output_type": "stream",
     "text": [
      "1 2 3 4 5 6 12 18 17 16 15 14 13 7 8 9 10 11 "
     ]
    }
   ],
   "source": [
    "spiral_matrix(m,n,A)"
   ]
  },
  {
   "cell_type": "code",
   "execution_count": 16,
   "id": "00e0bcfd",
   "metadata": {},
   "outputs": [
    {
     "name": "stdout",
     "output_type": "stream",
     "text": [
      "6\n"
     ]
    }
   ],
   "source": [
    "print(len(A[0]))"
   ]
  },
  {
   "cell_type": "code",
   "execution_count": 30,
   "id": "53709577",
   "metadata": {},
   "outputs": [],
   "source": [
    "def spiralOrder(A):\n",
    "    SM = []\n",
    "    m = len(A)\n",
    "    n = len(A[0])\n",
    "    k = 0\n",
    "    l = 0\n",
    "    while(k<m and l<n):\n",
    "        for i in range(l,n):\n",
    "            SM.append(A[k][i])\n",
    "        k+=1\n",
    "        for i in range(k,m):\n",
    "            SM.append(A[i][n-1])\n",
    "        n-=1\n",
    "        if (k<m):\n",
    "            for i in range(n-1,l-1,-1):\n",
    "                SM.append(A[m-1][i])\n",
    "            m -=1\n",
    "        if (l<n):\n",
    "            for i in range(m-1,k-1,-1):\n",
    "                SM.append(A[i][l])\n",
    "            l+=1\n",
    "    return SM"
   ]
  },
  {
   "cell_type": "code",
   "execution_count": 31,
   "id": "51b1cdb8",
   "metadata": {},
   "outputs": [
    {
     "name": "stdout",
     "output_type": "stream",
     "text": [
      "[1, 2, 3, 4, 5, 6, 12, 18, 17, 16, 15, 14, 13, 7, 8, 9, 10, 11]\n"
     ]
    }
   ],
   "source": [
    "SM = spiralOrder(A)\n",
    "print(SM)"
   ]
  },
  {
   "cell_type": "markdown",
   "id": "3285f09c",
   "metadata": {},
   "source": [
    "### Max Non Negative Sub array"
   ]
  },
  {
   "cell_type": "markdown",
   "id": "6bffae4d",
   "metadata": {},
   "source": [
    "Input: [1,4,-3,9,5,-6]\n",
    "\n",
    "Output : 14\n",
    "\n",
    "Explanation: Subarray [9, 5] is the subarray having maximum sum with all non-negative elements."
   ]
  },
  {
   "cell_type": "code",
   "execution_count": 6,
   "id": "47763ac1",
   "metadata": {},
   "outputs": [],
   "source": [
    "def MaxSubArray(A):\n",
    "    Sum = 0\n",
    "    Max = -1000\n",
    "    SM = []\n",
    "    MSM = []\n",
    "    for i in range(len(A)):\n",
    "        if A[i] >= 0:\n",
    "            Sum = Sum + A[i]\n",
    "            SM.append(A[i])\n",
    "        else:\n",
    "            Sum = 0\n",
    "            SM = []\n",
    "        if Sum > Max:\n",
    "            Max = Sum\n",
    "            MSM = SM\n",
    "    return Max,MSM"
   ]
  },
  {
   "cell_type": "code",
   "execution_count": 9,
   "id": "c3c2865a",
   "metadata": {},
   "outputs": [],
   "source": [
    "A = [0,0,-1,0]"
   ]
  },
  {
   "cell_type": "code",
   "execution_count": 10,
   "id": "625fc317",
   "metadata": {},
   "outputs": [
    {
     "name": "stdout",
     "output_type": "stream",
     "text": [
      "[0, 0]\n"
     ]
    }
   ],
   "source": [
    "Max,MSM = MaxSubArray(A)\n",
    "print(MSM)"
   ]
  },
  {
   "cell_type": "code",
   "execution_count": null,
   "id": "683bd30f",
   "metadata": {},
   "outputs": [],
   "source": []
  }
 ],
 "metadata": {
  "kernelspec": {
   "display_name": "Python 3",
   "language": "python",
   "name": "python3"
  },
  "language_info": {
   "codemirror_mode": {
    "name": "ipython",
    "version": 3
   },
   "file_extension": ".py",
   "mimetype": "text/x-python",
   "name": "python",
   "nbconvert_exporter": "python",
   "pygments_lexer": "ipython3",
   "version": "3.8.8"
  }
 },
 "nbformat": 4,
 "nbformat_minor": 5
}
